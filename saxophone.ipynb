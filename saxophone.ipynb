{
 "cells": [
  {
   "cell_type": "markdown",
   "metadata": {
    "toc": true
   },
   "source": [
    "<h1>Projekt \"Saxophone\"<span class=\"tocSkip\"></span></h1>\n",
    "<div class=\"toc\"><ul class=\"toc-item\"><li><span><a href=\"#Aufgabe\" data-toc-modified-id=\"Aufgabe-1\"><span class=\"toc-item-num\">1&nbsp;&nbsp;</span>Aufgabe</a></span></li><li><span><a href=\"#Aufgabe\" data-toc-modified-id=\"Aufgabe-2\"><span class=\"toc-item-num\">2&nbsp;&nbsp;</span>Aufgabe</a></span></li><li><span><a href=\"#Aufgabe\" data-toc-modified-id=\"Aufgabe-3\"><span class=\"toc-item-num\">3&nbsp;&nbsp;</span>Aufgabe</a></span></li><li><span><a href=\"#Aufgabe\" data-toc-modified-id=\"Aufgabe-4\"><span class=\"toc-item-num\">4&nbsp;&nbsp;</span>Aufgabe</a></span></li><li><span><a href=\"#Zusatzaufgabe\" data-toc-modified-id=\"Zusatzaufgabe-5\"><span class=\"toc-item-num\">5&nbsp;&nbsp;</span>Zusatzaufgabe</a></span></li></ul></div>"
   ]
  },
  {
   "cell_type": "code",
   "execution_count": null,
   "metadata": {},
   "outputs": [],
   "source": [
    "import os\n",
    "\n",
    "# Target directory\n",
    "target_dir = \"Project-Saxophone\"\n",
    "\n",
    "# Get the current working directory's name\n",
    "current_dir_name = os.path.basename(os.getcwd())\n",
    "\n",
    "# Change directory only if not already in it\n",
    "if current_dir_name != target_dir:\n",
    "    if os.path.isdir(target_dir):\n",
    "        os.chdir(target_dir)\n",
    "        print(f\"Changed into '{target_dir}' directory.\")\n",
    "    else:\n",
    "        print(f\"Directory '{target_dir}' does not exist.\")\n",
    "else:\n",
    "    print(f\"Already in '{target_dir}' directory.\")"
   ]
  },
  {
   "cell_type": "markdown",
   "metadata": {},
   "source": [
    "# Lernziele\n",
    "Die Studierenden lernen\n",
    "- akustische Signale mithilfe von Fourier-Reihen zu analysieren\n",
    "- numerische Näherungswerte für Integrale mithilfe der Sehnentrapezregel zu ermitteln\n",
    "- numerische Näherungswerte für Fourier-Koeffizienten zu berechnen\n",
    "- periodische Funktionen durch trigonometrische Polynome zu approximieren\n",
    "- Spektren zu erstellen"
   ]
  },
  {
   "cell_type": "markdown",
   "metadata": {},
   "source": [
    "# Aufgabenstellung\n",
    "Die abgebildete Grafik zeigt den zeitlichen Verlauf der Luftdruckveränderung eines akustischen Signals, das durch ein Saxophon erzeugt wurde.\n",
    "Das Ziel dieses Projektes ist es, dieses Audiosignal mithilfe von Fourier-Reihen zu analysieren und entsprechende Methoden in Python zu implementieren.  "
   ]
  },
  {
   "cell_type": "markdown",
   "metadata": {},
   "source": [
    "![saxophone_1.png](data:image/png;base64,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)"
   ]
  },
  {
   "cell_type": "markdown",
   "metadata": {},
   "source": [
    "Über die Dauer von ca. $4$ Sekunden wurde die Veränderung des Luftdrucks mit einer Abtastrate von $44 \\, 100$ äquidistanten Zeitwerten pro Sekunde erfasst.\n",
    "Diese Auflösung wird als CD-Qualität bezeichnet.\n",
    "Die physikalische Einheit des Luftdrucks ist ein Pascal, $1$ Pa.\n",
    "Bei der digitalen Aufzeichnung von Musik ist es üblich, den Luftdruck entweder durch ganzzahlige Werte oder durch Gleitkommazahlen in einem normalisierten Bereich darzustellen.\n",
    "Die Genauigkeit der Darstellung ist durch die Anzahl der Bit pro Abtastwert festgelegt.\n",
    "In CD-Qualität verwendet man $16$ Bit, bei DVD oder Blu-Ray bis zu $24$ Bit.\n",
    "Der Abbildung liegen ganze Zahlen zwischen $–32\\,768$ und $32\\,767$ zugrunde.\n",
    "Das entspricht dem Wertebereich von `int16` und somit der CD-Qualität."
   ]
  },
  {
   "cell_type": "markdown",
   "metadata": {},
   "source": [
    "# Bibliotheken\n",
    "Für die Berechnungen wird die Bibliothek `numpy` verwendet.\n",
    "Das Erstellen der Grafiken erfolgt mit der Bibliothek `matplotlib` und `pyplot`."
   ]
  },
  {
   "cell_type": "code",
   "execution_count": null,
   "metadata": {},
   "outputs": [],
   "source": [
    "import numpy as np\n",
    "import matplotlib.pyplot as plt"
   ]
  },
  {
   "cell_type": "markdown",
   "metadata": {},
   "source": [
    "# Vorgehensweise\n",
    "Die Vorgehensweise kann in den folgenden Schritten erfolgen:\n",
    "- WAVE-Datei mit Audiodaten\n",
    "- Grafische Darstellung der Audiodaten\n",
    "- Summierte Sehnentrapezregel\n",
    "- Fourier-Koeffizienten\n",
    "- Fourier-Reihe\n",
    "- Spektrum"
   ]
  },
  {
   "cell_type": "markdown",
   "metadata": {},
   "source": [
    "# WAVE-Datei mit Audiodaten\n",
    "Audiosignale können in unterschiedlichen digitalen Dateiformaten gespeichert werden.\n",
    "Wir verwenden in diesem Projekt das\n",
    "<a href=\"https://de.wikipedia.org/wiki/RIFF_WAVE\">Waveform Audio File Format (WAVE)</a>.\n",
    "Dateien in diesem Format haben die Dateiendung `.wav`.\n",
    "Die Datei `saxophone.wav` enthält die Daten des in der Abbildung dargestellten Audiosignals.\n",
    "Es handelt sich um eine Mono-Aufnahme, d.h. gespeichert ist nur ein Kanal.\n",
    "In Python gibt es mehrere Pakete zum Lesen, Bearbeiten und Schreiben von Audiodateien.\n",
    "In diesem Projekt verwenden wir die Bibliothek `wave`."
   ]
  },
  {
   "cell_type": "code",
   "execution_count": null,
   "metadata": {},
   "outputs": [],
   "source": [
    "import wave\n",
    "\n",
    "with wave.open('saxophone.wav', 'rb') as wav_file:\n",
    "    n_channels = wav_file.getnchannels()\n",
    "    framerate = wav_file.getframerate()\n",
    "    n_frames = wav_file.getnframes()\n",
    "    framebuffer = wav_file.readframes(n_frames)\n",
    "\n",
    "frames = np.frombuffer(framebuffer, dtype=np.int16)\n",
    "\n",
    "print(\"Frame Rate = \",framerate,\"1/s\")\n",
    "print(\"Number of Audio Frames = \",len(frames))\n",
    "print(\"Data Size = \",len(frames)*16/8,\"Bytes\")\n",
    "print(\"Duration = \",len(frames)/framerate,\"s\")"
   ]
  },
  {
   "cell_type": "markdown",
   "metadata": {},
   "source": [
    "Die Audiowiedergabe der Daten kann durch die Funktion `IPython.display.Audio()` erfolgen:"
   ]
  },
  {
   "cell_type": "code",
   "execution_count": null,
   "metadata": {},
   "outputs": [],
   "source": [
    "from IPython.display import Audio\n",
    "Audio(data=frames,rate=framerate)"
   ]
  },
  {
   "cell_type": "markdown",
   "metadata": {},
   "source": [
    "# Grafische Darstellung der Audiodaten\n",
    "Für die grafische Darstellung des Luftdrucks über der Zeit benötigen wir die zu den Audiodaten passenden Zeitwerte.\n",
    "Diese ergeben sich aus der Anzahl der Audioframes und der Abtastrate. "
   ]
  },
  {
   "cell_type": "code",
   "execution_count": null,
   "metadata": {},
   "outputs": [],
   "source": [
    "times = np.arange(len(frames))/framerate\n",
    "fig, ax = plt.subplots(figsize=(15,5))\n",
    "ax.plot(times,frames)\n",
    "#fig.savefig(\"saxophone_1.png\")"
   ]
  },
  {
   "cell_type": "markdown",
   "metadata": {},
   "source": [
    "Wenn man sich das Audiosignal genauer anschaut, dann erkennt man, dass sich die Werte nach einem kurzen Einschwingvorgang über einen längeren Zeitraum periodisch wiederholen:"
   ]
  },
  {
   "cell_type": "code",
   "execution_count": null,
   "metadata": {},
   "outputs": [],
   "source": [
    "fig, ax = plt.subplots(figsize=(15,5))\n",
    "ax.plot(times[50000:50400],frames[50000:50400])\n",
    "ax.grid(True)\n",
    "#fig.savefig(\"saxophone_2.png\")"
   ]
  },
  {
   "cell_type": "markdown",
   "metadata": {},
   "source": [
    "Für die Fourier-Analyse verwenden wir die Werte einer vollen Periode $T$:"
   ]
  },
  {
   "cell_type": "code",
   "execution_count": null,
   "metadata": {},
   "outputs": [],
   "source": [
    "p = 128\n",
    "T = p/framerate\n",
    "t0 = 50011\n",
    "t = times[t0:t0+p+1]\n",
    "f = frames[t0:t0+p+1]\n",
    "ax.plot(t,f,'.r')\n",
    "display(fig)\n",
    "#fig.savefig(\"saxophone_3.png\")"
   ]
  },
  {
   "cell_type": "markdown",
   "metadata": {},
   "source": [
    "Aus der Skizze ist zu erkennen, dass eine volle Periode aus insgesamt $128$ Werten besteht.\n",
    "Somit gilt für die Periode $T$:\n",
    "\n",
    "$$\n",
    "\tT \\approx \\frac{128}{44\\,100} \\mathrm{ s},\n",
    "$$\n",
    "\n",
    "was einer Grundfrequenz von ungefähr $345$ Hz entspricht.\n",
    "\n",
    "Die Abtastwerte einer vollen Periode charakterisieren den Ton des Saxophons und bilden die Grundlage für die Fourier-Analyse.\n",
    "\n",
    "Die Addition von zwei Audiowerten könnte beim Datentyp `int16` einen Overflow oder Underflow des Wertebereichs verursachen.\n",
    "Für die weiteren numerischen Berechnungen ist der Datentyp `int16` ungeeignet.\n",
    "Deshalb konvertieren wir die Daten in den Typ `float`."
   ]
  },
  {
   "cell_type": "code",
   "execution_count": null,
   "metadata": {},
   "outputs": [],
   "source": [
    "f = f.astype(float)"
   ]
  },
  {
   "cell_type": "markdown",
   "metadata": {},
   "source": [
    "# Summierte Sehnentrapezregel\n",
    "Die Fourier-Analyse basiert auf den Fourier-Koeffizienten des periodischen Audiosignals. \n",
    "Das Audiosignal liegt in unserem Beispiel nicht in der Form einer mathematischen Funktionsvorschrift vor, sondern in der Form von abgetastenen Werten.\n",
    "Die Fourier-Koeffizienten können deshalb nur numerisch angenähert und nicht mithilfe von Integralen analytisch exakt bestimmt werden.\n",
    "Ein einfaches und effizientes numerisches Integrationsverfahren ist die summierte Sehnentrapezregel.\n",
    "Bei diesem Verfahren wird das bestimmte Integral $I$ einer Funktion $f$ im Intervall $[a,b]$\n",
    "\n",
    "$$\n",
    "\tI = \\int_a^b f(x) \\, \\textrm{d} \\, x\n",
    "$$\n",
    "\n",
    "durch eine Summe von $n$ Trapezflächen angenähert."
   ]
  },
  {
   "cell_type": "markdown",
   "metadata": {},
   "source": [
    "![trapezregel.png](data:image/png;base64,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)"
   ]
  },
  {
   "cell_type": "markdown",
   "metadata": {},
   "source": [
    "Die Fläche eines einzelnen Trapezes berechnet sich aus dem Produkt der Grundseite und dem Mittelwert der beiden Funktionswerte.\n",
    "Somit lautet die Formel zur Berechnung der Summe von $n$ Trapezflächen: \n",
    "\n",
    "$$\n",
    "\t\\tilde{I} = \\sum_{k=0}^{n-1} (x_{k+1}-x_k) \\frac{f_k + f_{k+1}}{2} \\, .\n",
    "$$\n",
    "\n",
    "Dabei sind\n",
    "\n",
    "$$\n",
    "    a = x_0, x_1, x_2, \\ldots , x_{n-1}, x_n = b\n",
    "$$\n",
    "\n",
    "die $x$-Koordinaten in aufsteigend sortierter Reihenfolge und\n",
    "\n",
    "$$\n",
    "    f_0, f_1, f_2, \\ldots , f_{n-1}, f_n\n",
    "$$\n",
    "\n",
    "die entsprechenden Funktionswerte.\n",
    "\n",
    "Bei einer konstanten Abtastrate, wie in unserem Beispiel, hat die Differenz aufeinanderfolgender $x$-Werte einen konstanten Wert $h$.\n",
    "Die Genauigkeit des Näherungswertes hängt also im Wesentlichen von der Abtastrate ab."
   ]
  },
  {
   "cell_type": "markdown",
   "metadata": {},
   "source": [
    "<div class=\"alert alert-block alert-info\">\n",
    "\n",
    "### Aufgabe\n",
    "\n",
    "**a)**\n",
    "Implementieren Sie die summierte Sehnentrapezregel mit der Funktion `trapezoidalRule(x,f)` in Python.\n",
    "Gehen Sie davon aus, dass $x$ und $f$ eindimensionale `numpy` Arrays gleicher Länge sind und dass die $x$-Werte aufsteigend sortiert sind.  \n",
    "\n",
    "**b)** \n",
    "Testen Sie die Implementierung mit dem Integral\n",
    "    \n",
    "$$\n",
    "\tI = \\int_1^2 \\frac{1}{x} \\, \\textrm{d} \\, x \\, ,\n",
    "$$\n",
    "\n",
    "für $1000$ Abtastwerte und berechnen Sie die Abweichung des Näherungswertes vom exakten Wert $I$.\n",
    "</div>"
   ]
  },
  {
   "cell_type": "code",
   "execution_count": null,
   "metadata": {},
   "outputs": [],
   "source": [
    "#\n",
    "# a) Implementation\n",
    "#\n",
    "def trapezoidalRule(x,f):\n",
    "    '''\n",
    "    Returns the trapezoidal rule for approximating integrals.\n",
    "\n",
    "            Parameters:\n",
    "                    x (np.array): sorted x values\n",
    "                    f (np.array): function values\n",
    "\n",
    "            Returns:\n",
    "                    I : trapezoidal rule\n",
    "    '''    \n",
    "    if x.shape != f.shape:\n",
    "        raise ValueError(\"Arrays must have the same size\")\n",
    "    \n",
    "    I = 0\n",
    "\n",
    "    \n",
    "    \n",
    "    return I"
   ]
  },
  {
   "cell_type": "code",
   "execution_count": null,
   "metadata": {},
   "outputs": [],
   "source": [
    "#\n",
    "# b) Testing\n",
    "#\n",
    "\n",
    "\n",
    "\n"
   ]
  },
  {
   "cell_type": "markdown",
   "metadata": {},
   "source": [
    "# Fourier-Koeffizienten\n",
    "Die Fourier-Koeffizienten $a_k$ und $b_k$ einer Funktion $f$ mit Periode $T$ und Kreisfrequenz\n",
    "$\\omega = \\frac{2 \\, \\pi}{T}$ kann man mit den folgenden Formeln berechnen:\n",
    "\n",
    "$$\n",
    "\t\\begin{array}{lcll}\n",
    "\ta_k & = & \\displaystyle \\frac{2}{T} \\int_0^T f(t) \\, \\cos(k \\, \\omega \\, t) \\, \\textrm{d} \\, t, & k = 0,1,2,\\ldots, n, \\\\\n",
    "\t& & & \\\\\n",
    "\tb_k & = & \\displaystyle \\frac{2}{T} \\int_0^T f(t) \\, \\sin(k \\, \\omega \\, t) \\, \\textrm{d} \\, t, & k = \\hphantom{0,} 1,2,\\ldots, n.\n",
    "\t\\end{array}\n",
    "$$\n",
    "\n",
    "Bei diesem Projekt verwenden wir an äquidistanten Zeitpunkten abgetastete Werte über eine volle Periode.\n",
    "Dadurch können die Integrale mithilfe der summierten Sehnentrapezregel angenähert werden."
   ]
  },
  {
   "cell_type": "markdown",
   "metadata": {},
   "source": [
    "<div class=\"alert alert-block alert-info\">\n",
    "\n",
    "### Aufgabe\n",
    "\n",
    "**a)**\n",
    "Implementieren Sie die Funktion `fourierCoeffs(t,f,n=10)` in Python.\n",
    "Diese Funktion soll die Fourier-Koeffizienten $a_0$, $a_1$, $\\ldots$, $a_n$ und $b_1$, $\\ldots$, $b_n$ mithilfe der Funktion `trapezoidalRule(x,f)` annähern.\n",
    "Gehen Sie davon aus, dass $t$ und $f$ eindimensionale `numpy` Arrays gleicher Länge sind und dass die $t$-Werte aufsteigend sortiert sind.\n",
    "\n",
    "**b)** \n",
    "Testen Sie die Implementierung für die Abtastwerte einer vollen Periode des Audiosignals des Saxophons für $n=10$.\n",
    "    \n",
    "<b>Kontrollwerte:</b>\n",
    "    \n",
    "$$\n",
    "a_0 \\approx 101, \\quad a_1 \\approx 8184, \\quad b_1 \\approx -6302.\n",
    "$$\n",
    "</div>"
   ]
  },
  {
   "cell_type": "markdown",
   "metadata": {},
   "source": [
    "<div class=\"alert alert-block alert-danger\">\n",
    "    \n",
    "<b>Merke</b>\n",
    "    \n",
    "Arrays der Bibliothek `numpy` lassen sich durch den Operator `*` elementweise multiplizieren.\n",
    "\n",
    "- https://numpy.org/doc/stable/reference/generated/numpy.multiply.html"
   ]
  },
  {
   "cell_type": "code",
   "execution_count": null,
   "metadata": {},
   "outputs": [],
   "source": [
    "#\n",
    "# a) Implementation\n",
    "#\n",
    "def fourierCoeffs(t,f,n=10):\n",
    "    '''\n",
    "    Returns the Fourier coefficients of a periodic signal.\n",
    "\n",
    "            Parameters:\n",
    "                    t (np.array): sorted t values\n",
    "                    f (np.array): function values\n",
    "                    n (int): order\n",
    "\n",
    "            Returns:\n",
    "                    a : a_0, a_1, ..., a_n\n",
    "                    b : 0  , b_1, ..., b_n\n",
    "    '''    \n",
    "    \n",
    "    \n",
    "    \n",
    "    \n",
    "    \n",
    "    \n",
    "    \n",
    "    \n",
    "    \n",
    "    return a,b"
   ]
  },
  {
   "cell_type": "code",
   "execution_count": null,
   "metadata": {},
   "outputs": [],
   "source": [
    "#\n",
    "# b) Testing\n",
    "#\n",
    "\n",
    "\n",
    "\n",
    "\n"
   ]
  },
  {
   "cell_type": "markdown",
   "metadata": {},
   "source": [
    "# Fourier-Reihen\n",
    "\n",
    "Aus den Fourier-Koeffizienten $a_k$ und $b_k$ erhält man das trigonometrische Polynom vom Grad $n$\n",
    "\n",
    "$$\n",
    "\tp_n(t) = \\frac{a_0}{2} + \n",
    "\t\\sum_{k=1}^{n} \\left( a_k \\cos{(k \\, \\omega \\, t)} + b_k \\sin{(k \\, \\omega \\, t)} \\right) \\, .\n",
    "$$\n",
    "\n",
    "Eine Funktion soll so implementiert werden, dass das trigonometrische Polynom für beliebige reelle Zahlen $t$ ausgewertet werden kann.\n",
    "Dazu wird der Funktionswert $p_n(t)$ für alle $t$-Werte mit dem Gleichanteil $\\frac{a_0}{2}$ initialisiert.\n",
    "Danach werden in einer Schleife alle weiteren harmonischen Schwingungen addiert."
   ]
  },
  {
   "cell_type": "markdown",
   "metadata": {},
   "source": [
    "<div class=\"alert alert-block alert-info\">\n",
    "\n",
    "### Aufgabe\n",
    "\n",
    "**a)**\n",
    "Implementieren Sie die Funktion `fourierSeries(a,b,t,T)` in Python.\n",
    "Diese Funktion soll die Fourier-Reihe einer Funktion mit der Periode $T$ und den Fourier-Koeffizienten in den `numpy` Arrays $a$ und $b$ an allen Werten im `numpy` Array $t$ auswerten. \n",
    "Gehen Sie davon aus, dass $a$ und $b$ eindimensionale `numpy` Arrays gleicher Länge sind und dass die $t$-Werte aufsteigend sortiert sind.\n",
    "Die Periode $T$ ist ein optionales Argument, das per default auf die Differenz des letzten und des ersten $t$-Wertes gesetzt wird.\n",
    "\n",
    "**b)** \n",
    "Testen Sie die Implementierung für die Fourier-Koeffizienten der Abtastwerte einer vollen Periode des Audiosignals des Saxophons für $n=10$.\n",
    "Vergleichen Sie die Abtastwerte mit der Fourier-Reihe mithilfe einer Grafik.  \n",
    "\n",
    "</div>"
   ]
  },
  {
   "cell_type": "markdown",
   "metadata": {},
   "source": [
    "Die Qualität der Annäherung einer periodischen Funktion durch trigonometrische Polynome hängt von der Abtastrate und der Ordnung $n$ ab.\n",
    "In der Grafik ist zu erkennen, dass das trigonometrische Polynom für $n=10$ eine gute Näherung liefert. \n",
    "\n",
    "![saxophone_4.png](data:image/png;base64,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)"
   ]
  },
  {
   "cell_type": "code",
   "execution_count": null,
   "metadata": {},
   "outputs": [],
   "source": [
    "#\n",
    "# a) Implementation\n",
    "#\n",
    "def fourierSeries(a,b,t,T=-1.0):\n",
    "    \n",
    "    if T == -1.0:\n",
    "        T = t[-1] - t[0]\n",
    "    \n",
    "    \n",
    "    \n",
    "    \n",
    "    return p"
   ]
  },
  {
   "cell_type": "code",
   "execution_count": null,
   "metadata": {},
   "outputs": [],
   "source": [
    "#\n",
    "# b) Testing\n",
    "#\n",
    "\n",
    "\n",
    "\n"
   ]
  },
  {
   "cell_type": "markdown",
   "metadata": {},
   "source": [
    "# Spektrum\n",
    "\n",
    "Anhand des Amplitudenspektrums\n",
    "\n",
    "$$\n",
    "\tA_0 = |a_0|, \\quad A_k = \\sqrt{a_k^2 + b_k^2}, \\, k=1,2,\\ldots,n\n",
    "$$\n",
    "\n",
    "werden die Anteile der einzelnen Frequenzen $T_k=\\frac{1}{k}$ sichtbar.\n"
   ]
  },
  {
   "cell_type": "markdown",
   "metadata": {},
   "source": [
    "<div class=\"alert alert-block alert-info\">\n",
    "\n",
    "### Aufgabe\n",
    "\n",
    "**a)**\n",
    "Implementieren Sie die Funktion `fourierSpectrum(a,b,T)` in Python.\n",
    "Diese Funktion soll das Amplitudenspektrum einer Fourier-Reihe einer Funktion mit der Periode $T$ und den Fourier-Koeffizienten in den `numpy` Arrays $a$ und $b$ berechnen. \n",
    "Gehen Sie davon aus, dass $a$ und $b$ eindimensionale `numpy` Arrays gleicher Länge sind.\n",
    "\n",
    "**b)** \n",
    "Testen Sie die Implementierung für die Fourier-Koeffizienten der Abtastwerte einer vollen Periode des Audiosignals des Saxophons für $n=10$.\n",
    "Erstellen Sie einen Bar-Plot des Amplitudenspektrums.  \n",
    "\n",
    "</div>"
   ]
  },
  {
   "cell_type": "markdown",
   "metadata": {},
   "source": [
    "Aus der Abbildung ist zu erkennen, dass der Gleichanteil des Audiosignals fast null ist.\n",
    "Die Grundschwingung liegt bei einer Frequenz von ungefähr $345$ Hz.\n",
    "\n",
    "\n",
    "![saxophone_5.png](data:image/png;base64,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)\n",
    "\n",
    "Es gibt einige kostenlose Tools um Audiosignale zu analysieren beispielsweise die Internetseite https://academo.org/demos/spectrum-analyzer/ oder die Smartphone App https://spectroid.de.aptoide.com/app."
   ]
  },
  {
   "cell_type": "code",
   "execution_count": null,
   "metadata": {},
   "outputs": [],
   "source": [
    "#\n",
    "# a) Implementation\n",
    "#\n",
    "def fourierSpectrum(a,b,T):\n",
    "    \n",
    "    \n",
    "    \n",
    "    return frequencies, amplitudes"
   ]
  },
  {
   "cell_type": "code",
   "execution_count": null,
   "metadata": {},
   "outputs": [],
   "source": [
    "#\n",
    "# b) Testing\n",
    "#\n",
    "\n",
    "\n",
    "\n"
   ]
  },
  {
   "cell_type": "markdown",
   "metadata": {},
   "source": [
    "# Zusatzaufgabe\n",
    "Das Lösen der Zusatzaufgabe erfordert fundierte Kenntnisse im Umgang mit Python.\n",
    "Die Zusatzaufgabe ist nur für diejenigen gedacht, die aus eigenem Interesse tiefer in die Materie einsteigen wollen!"
   ]
  },
  {
   "cell_type": "markdown",
   "metadata": {},
   "source": [
    "<div class=\"alert alert-block alert-info\">\n",
    "    \n",
    "### Zusatzaufgabe\n",
    "\n",
    "Erstellen Sie Wave-Dateien mit Fourier-Reihen des Audiosignals des Saxophons.\n",
    "Berücksichtigen Sie dabei unterschiedliche Oberschwingungen, d.h. unterschiedliche Werte für $n$.\n",
    "    \n",
    "</div>"
   ]
  }
 ],
 "metadata": {
  "kernelspec": {
   "display_name": "base",
   "language": "python",
   "name": "python3"
  },
  "language_info": {
   "codemirror_mode": {
    "name": "ipython",
    "version": 3
   },
   "file_extension": ".py",
   "mimetype": "text/x-python",
   "name": "python",
   "nbconvert_exporter": "python",
   "pygments_lexer": "ipython3",
   "version": "3.11.7"
  },
  "toc": {
   "base_numbering": 1,
   "nav_menu": {},
   "number_sections": true,
   "sideBar": true,
   "skip_h1_title": true,
   "title_cell": "Projekt \"Saxophone\"",
   "title_sidebar": "Projekt \"Saxophone\"",
   "toc_cell": true,
   "toc_position": {
    "height": "570.4px",
    "left": "35px",
    "top": "136.883px",
    "width": "203.167px"
   },
   "toc_section_display": false,
   "toc_window_display": false
  }
 },
 "nbformat": 4,
 "nbformat_minor": 4
}
